{
  "nbformat": 4,
  "nbformat_minor": 0,
  "metadata": {
    "colab": {
      "name": "python_exercises_03.ipynb",
      "provenance": [],
      "collapsed_sections": [],
      "include_colab_link": true
    },
    "kernelspec": {
      "name": "python3",
      "display_name": "Python 3"
    }
  },
  "cells": [
    {
      "cell_type": "markdown",
      "metadata": {
        "id": "view-in-github",
        "colab_type": "text"
      },
      "source": [
        "<a href=\"https://colab.research.google.com/github/ErycM/br-python-condensed/blob/main/python_exercises_03.ipynb\" target=\"_parent\"><img src=\"https://colab.research.google.com/assets/colab-badge.svg\" alt=\"Open In Colab\"/></a>"
      ]
    },
    {
      "cell_type": "markdown",
      "metadata": {
        "id": "8YqaSZgXYJ5g"
      },
      "source": [
        "![](https://i.imgur.com/YX6UATs.png)\n"
      ]
    },
    {
      "cell_type": "markdown",
      "metadata": {
        "id": "hhUVzDipaGb9"
      },
      "source": [
        "### **Exercícios de Python - 3** \n",
        "\n",
        "\n",
        "\n"
      ]
    },
    {
      "cell_type": "markdown",
      "metadata": {
        "id": "7O6AZt8-aGlr"
      },
      "source": [
        "1 - Classe Bola:\\\n",
        "Crie uma classe que modele uma bola:\n",
        "\n",
        "Atributos: Cor, material\\\n",
        "Métodos: trocaCor "
      ]
    },
    {
      "cell_type": "code",
      "metadata": {
        "id": "ibipMzmZcfIF",
        "colab": {
          "base_uri": "https://localhost:8080/"
        },
        "outputId": "8bea7329-cfd7-4752-a4eb-4e82586a3acb"
      },
      "source": [
        "class Bola:\n",
        "  def __init__(self,cor,material):\n",
        "    self.cor = cor\n",
        "    self.material = material\n",
        "\n",
        "  def trocaCor(self, novaCor):\n",
        "    self.cor = novaCor\n",
        "    print(\"Cor alterada para: \"+self.cor)\n",
        "\n",
        "objBola = Bola(\"verde\",\"couro\")\n",
        "print(objBola.cor)\n",
        "print(objBola.material)\n",
        "\n",
        "objBola.trocaCor(\"Azul\")\n",
        "\n",
        "\n",
        "    \n"
      ],
      "execution_count": 6,
      "outputs": [
        {
          "output_type": "stream",
          "text": [
            "verde\n",
            "couro\n",
            "Cor alterada para: Azul\n"
          ],
          "name": "stdout"
        }
      ]
    },
    {
      "cell_type": "markdown",
      "metadata": {
        "id": "c62cM2VlKFqN"
      },
      "source": [
        "2 - Classe Quadrado: Crie uma classe que modele um quadrado:\n",
        "\n",
        "Atributos: Tamanho do lado\n",
        "Métodos: Mudar valor do Lado e calcular Área;"
      ]
    },
    {
      "cell_type": "code",
      "metadata": {
        "id": "M_5mNjNbKFMI",
        "colab": {
          "base_uri": "https://localhost:8080/"
        },
        "outputId": "8b6ce899-e8f6-4896-92a7-e828466b8b88"
      },
      "source": [
        "class Quadrado:\n",
        "  def __init__(self,lado):\n",
        "    self.lado = lado\n",
        "  \n",
        "  def calcArea(self):\n",
        "    print(\"Área do quadrado:\"+str(float(self.lado)*float(self.lado)))\n",
        "\n",
        "  def mudaLado(self, novoLado):\n",
        "    self.lado = novoLado\n",
        "    print(\"Valor do novo lado: \"+str(self.lado))\n",
        "\n",
        "objQuadrado = Quadrado(10)\n",
        "objQuadrado.calcArea()\n",
        "objQuadrado.mudaLado(5)\n",
        "objQuadrado.calcArea()"
      ],
      "execution_count": 11,
      "outputs": [
        {
          "output_type": "stream",
          "text": [
            "Área do quadrado:100.0\n",
            "Valor do novo lado: 5\n",
            "Área do quadrado:25.0\n"
          ],
          "name": "stdout"
        }
      ]
    },
    {
      "cell_type": "markdown",
      "metadata": {
        "id": "qMGp-h8OaGqr"
      },
      "source": [
        "3 - Classe funcionário \\\n",
        "Crie uma classe que crie funcionários de uma empresa.\\\n",
        "Atributos: Nome, Função, Salário. \\\n",
        "Métodos: aumento anual. O aumento anual deve ser de 10%.\\\n",
        "Crie dois objetos e dê um aument de 10% a um deles e um aumento de 20% ao outro."
      ]
    },
    {
      "cell_type": "code",
      "metadata": {
        "id": "3lzz274Thi0Y",
        "colab": {
          "base_uri": "https://localhost:8080/"
        },
        "outputId": "c4d729ca-e6f6-4b9b-b449-173fbe89a03f"
      },
      "source": [
        "class FuncionarioEmpresa:\n",
        "  def __init__(self, nome, funcao, salario):\n",
        "    self.nome = nome\n",
        "    self.funcao = funcao\n",
        "    self.salario = salario\n",
        "  def aumentoAnual(self, aumento):\n",
        "    self.salario = float(self.salario)*(1+float(aumento)/100)\n",
        "    print(\"Salário aumentado para: \"+str(self.salario))\n",
        "  \n",
        "objFuncionarioEmpresa1 = FuncionarioEmpresa(\"maria\",\"analista\",5000)\n",
        "objFuncionarioEmpresa1.aumentoAnual(10)\n",
        "\n",
        "objFuncionarioEmpresa2 = FuncionarioEmpresa(\"joao\",\"analista\",4000)\n",
        "objFuncionarioEmpresa2.aumentoAnual(20)\n",
        "\n"
      ],
      "execution_count": 16,
      "outputs": [
        {
          "output_type": "stream",
          "text": [
            "Salário aumentado para: 5500.0\n",
            "Salário aumentado para: 4800.0\n"
          ],
          "name": "stdout"
        }
      ]
    },
    {
      "cell_type": "markdown",
      "metadata": {
        "id": "lCMWrvt3P4_x"
      },
      "source": [
        "04 - Utilizando a biblioteca Numpy, obtenha as médias, medianas e desvios padrão de altura, peso e IMC dos membros do dicionário a seguir:\\\n",
        "Trasforme os dicionários em um numpy array e utilize os métodos próprios dessa classe."
      ]
    },
    {
      "cell_type": "code",
      "metadata": {
        "id": "l4qtSxU7XquB"
      },
      "source": [
        "clientes = {'Charlotte': {'altura': 1.56, 'imc': 21, 'peso': 52, 'sexo': 'F'},\n",
        " 'Claudia': {'altura': 1.56, 'imc': 25, 'peso': 62, 'sexo': 'F'},\n",
        " 'Jonas': {'altura': 1.56, 'imc': 21, 'peso': 52, 'sexo': 'M'},\n",
        " 'Martha': {'altura': 1.98, 'imc': 19, 'peso': 76, 'sexo': 'F'},\n",
        " 'Mikkel': {'altura': 1.56, 'imc': 28, 'peso': 67, 'sexo': 'M'},\n",
        " 'Ulrich': {'altura': 1.92, 'imc': 22, 'peso': 80, 'sexo': 'M'}}"
      ],
      "execution_count": null,
      "outputs": []
    },
    {
      "cell_type": "code",
      "metadata": {
        "id": "nv9z8He8hOLf",
        "colab": {
          "base_uri": "https://localhost:8080/"
        },
        "outputId": "8f6698fa-23a5-4641-d343-be571a49a6a7"
      },
      "source": [
        "import numpy as np\n",
        "\n",
        "clientes = {'Charlotte': {'altura': 1.56, 'imc': 21, 'peso': 52, 'sexo': 'F'},\n",
        " 'Claudia': {'altura': 1.56, 'imc': 25, 'peso': 62, 'sexo': 'F'},\n",
        " 'Jonas': {'altura': 1.56, 'imc': 21, 'peso': 52, 'sexo': 'M'},\n",
        " 'Martha': {'altura': 1.98, 'imc': 19, 'peso': 76, 'sexo': 'F'},\n",
        " 'Mikkel': {'altura': 1.56, 'imc': 28, 'peso': 67, 'sexo': 'M'},\n",
        " 'Ulrich': {'altura': 1.92, 'imc': 22, 'peso': 80, 'sexo': 'M'}}\n",
        "\n",
        "clientesAltura = []\n",
        "clientesImc = []\n",
        "clientesPeso = []\n",
        "\n",
        "for cliente in clientes:\n",
        "  clientesAltura.append(clientes[cliente]['altura'])\n",
        "  clientesImc.append(clientes[cliente]['imc'])\n",
        "  clientesPeso.append(clientes[cliente]['peso'])\n",
        "\n",
        "print(f\"Média altura: {np.average(clientesAltura)}\")\n",
        "print(f\"Mediana altura: {np.median(clientesAltura)}\")\n",
        "print(f\"Desvio Padrão altura: {np.std(clientesAltura)}\")\n",
        "print(\"\\n\")\n",
        "print(f\"Média IMC: {np.average(clientesImc)}\")\n",
        "print(f\"Mediana IMC: {np.median(clientesImc)}\")\n",
        "print(f\"Desvio Padrão IMC: {np.std(clientesImc)}\")\n",
        "print(\"\\n\")\n",
        "print(f\"Média peso: {np.average(clientesPeso)}\")\n",
        "print(f\"Mediana peso: {np.median(clientesPeso)}\")\n",
        "print(f\"Desvio Padrão peso: {np.std(clientesPeso)}\")\n"
      ],
      "execution_count": 40,
      "outputs": [
        {
          "output_type": "stream",
          "text": [
            "Média altura: 1.6900000000000002\n",
            "Mediana altura: 1.56\n",
            "Desvio Padrão altura: 0.18466185312619385\n",
            "\n",
            "\n",
            "Média IMC: 22.666666666666668\n",
            "Mediana IMC: 21.5\n",
            "Desvio Padrão IMC: 2.981423969999719\n",
            "\n",
            "\n",
            "Média peso: 64.83333333333333\n",
            "Mediana peso: 64.5\n",
            "Desvio Padrão peso: 10.77677544021814\n"
          ],
          "name": "stdout"
        }
      ]
    },
    {
      "cell_type": "markdown",
      "metadata": {
        "id": "1a_TuuI6QDWa"
      },
      "source": [
        "05 - Realize o mesmo procedimento com a biblioteca Statistics\n"
      ]
    },
    {
      "cell_type": "code",
      "metadata": {
        "id": "y64mwLBVhN1L",
        "colab": {
          "base_uri": "https://localhost:8080/"
        },
        "outputId": "72650c03-4b8f-4d67-f0a6-7e0e33a3959c"
      },
      "source": [
        "import statistics as st\n",
        "\n",
        "clientes = {'Charlotte': {'altura': 1.56, 'imc': 21, 'peso': 52, 'sexo': 'F'},\n",
        " 'Claudia': {'altura': 1.56, 'imc': 25, 'peso': 62, 'sexo': 'F'},\n",
        " 'Jonas': {'altura': 1.56, 'imc': 21, 'peso': 52, 'sexo': 'M'},\n",
        " 'Martha': {'altura': 1.98, 'imc': 19, 'peso': 76, 'sexo': 'F'},\n",
        " 'Mikkel': {'altura': 1.56, 'imc': 28, 'peso': 67, 'sexo': 'M'},\n",
        " 'Ulrich': {'altura': 1.92, 'imc': 22, 'peso': 80, 'sexo': 'M'}}\n",
        "\n",
        "clientesAltura = []\n",
        "clientesImc = []\n",
        "clientesPeso = []\n",
        "\n",
        "for cliente in clientes:\n",
        "  clientesAltura.append(clientes[cliente]['altura'])\n",
        "  clientesImc.append(clientes[cliente]['imc'])\n",
        "  clientesPeso.append(clientes[cliente]['peso'])\n",
        "\n",
        "print(f\"Média altura: {st.mean(clientesAltura)}\")\n",
        "print(f\"Mediana altura: {st.median(clientesAltura)}\")\n",
        "print(f\"Desvio Padrão altura: {st.pstdev(clientesAltura)}\")\n",
        "print(\"\\n\")\n",
        "print(f\"Média IMC: {st.mean(clientesImc)}\")\n",
        "print(f\"Mediana IMC: {st.median(clientesImc)}\")\n",
        "print(f\"Desvio Padrão IMC: {st.pstdev(clientesImc)}\")\n",
        "print(\"\\n\")\n",
        "print(f\"Média peso: {st.mean(clientesPeso)}\")\n",
        "print(f\"Mediana peso: {st.median(clientesPeso)}\")\n",
        "print(f\"Desvio Padrão peso: {st.pstdev(clientesPeso)}\")"
      ],
      "execution_count": 39,
      "outputs": [
        {
          "output_type": "stream",
          "text": [
            "Média altura: 1.69\n",
            "Mediana altura: 1.56\n",
            "Desvio Padrão altura: 0.18466185312619385\n",
            "\n",
            "\n",
            "Média IMC: 22.666666666666668\n",
            "Mediana IMC: 21.5\n",
            "Desvio Padrão IMC: 2.9814239699997196\n",
            "\n",
            "\n",
            "Média peso: 64.83333333333333\n",
            "Mediana peso: 64.5\n",
            "Desvio Padrão peso: 10.77677544021814\n"
          ],
          "name": "stdout"
        }
      ]
    },
    {
      "cell_type": "markdown",
      "metadata": {
        "id": "Lm1tOKThnU42"
      },
      "source": [
        "Exercícios adaptados de Python Brasil"
      ]
    }
  ]
}