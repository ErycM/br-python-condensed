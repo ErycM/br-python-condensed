{
  "nbformat": 4,
  "nbformat_minor": 0,
  "metadata": {
    "colab": {
      "name": "Copy of python_exercises_02.ipynb",
      "provenance": [],
      "include_colab_link": true
    },
    "kernelspec": {
      "name": "python3",
      "display_name": "Python 3"
    }
  },
  "cells": [
    {
      "cell_type": "markdown",
      "metadata": {
        "id": "view-in-github",
        "colab_type": "text"
      },
      "source": [
        "<a href=\"https://colab.research.google.com/github/ErycM/br-python-condensed/blob/main/python_exercises_02.ipynb\" target=\"_parent\"><img src=\"https://colab.research.google.com/assets/colab-badge.svg\" alt=\"Open In Colab\"/></a>"
      ]
    },
    {
      "cell_type": "markdown",
      "metadata": {
        "id": "8YqaSZgXYJ5g"
      },
      "source": [
        "![](https://i.imgur.com/YX6UATs.png)\n"
      ]
    },
    {
      "cell_type": "markdown",
      "metadata": {
        "id": "hhUVzDipaGb9"
      },
      "source": [
        "### **Exercícios de Python - 2** \n",
        "\n",
        "\n",
        "\n"
      ]
    },
    {
      "cell_type": "markdown",
      "metadata": {
        "id": "c62cM2VlKFqN"
      },
      "source": [
        "1 - Faça um programa que leia um nome de usuário e a sua senha e não aceite a senha igual ao nome do usuário, mostrando uma mensagem de erro."
      ]
    },
    {
      "cell_type": "code",
      "metadata": {
        "id": "A3ajzaOSq69B",
        "colab": {
          "base_uri": "https://localhost:8080/"
        },
        "outputId": "74360b29-d6df-451e-82f9-e2f9f815b979"
      },
      "source": [
        "from getpass import getpass\n",
        "\n",
        "name=\"\"\n",
        "password=\"\"\n",
        "\n",
        "\n",
        "def login():\n",
        "  global name\n",
        "  global password\n",
        "  name = input(\"Digite o nome do usuário: \")\n",
        "  password = getpass(\"Digite a senha: \")\n",
        "\n",
        "login()\n",
        "\n",
        "while True:\n",
        "\n",
        "  if name == password:\n",
        "    print(\"ERRO: A senha não deve ser igual ao seu nome. Digite novamente.\")\n",
        "    print(name+\" \"+password)\n",
        "    login()\n",
        "  else:\n",
        "    print(\"Salvo com sucesso.\")\n",
        "    break\n",
        "\n"
      ],
      "execution_count": null,
      "outputs": [
        {
          "output_type": "stream",
          "text": [
            "Digite o nome do usuário: 123\n",
            "Digite a senha: ··········\n",
            "Salvo com sucesso.\n"
          ],
          "name": "stdout"
        }
      ]
    },
    {
      "cell_type": "markdown",
      "metadata": {
        "id": "qMGp-h8OaGqr"
      },
      "source": [
        "2 - Utilizando listas faça um programa que faça 5 perguntas para uma pessoa sobre um crime. As perguntas são:\n",
        "- \"Telefonou para a vítima?\"\n",
        "- \"Esteve no local do crime?\"\n",
        "- \"Mora perto da vítima?\"\n",
        "- \"Devia para a vítima?\"\n",
        "- \"Já trabalhou com a vítima?\" \\\n",
        "O programa deve no final emitir uma classificação sobre a participação da pessoa no crime. Se a pessoa responder positivamente a 2 questões ela deve ser classificada como \"Suspeita\", entre 3 e 4 como \"Cúmplice\" e 5 como \"Assassino\". Caso contrário, ele será classificado como \"Inocente\"."
      ]
    },
    {
      "cell_type": "code",
      "metadata": {
        "id": "kTg-D89NdCld",
        "colab": {
          "base_uri": "https://localhost:8080/"
        },
        "outputId": "a8b436ec-bd8b-4217-8e4f-91e0ebdad5f1"
      },
      "source": [
        "questions=[\"Telefonou para a vítima?\",\"Esteve no local do crime?\",\"Mora perto da vítima?\",\"Devia para a vítima?\",\"Já trabalhou com a vítima?\"]\n",
        "answers=[]\n",
        "\n",
        "def do_questions(questions):\n",
        "  global answers\n",
        "  for q in questions:\n",
        "    while(True):\n",
        "      \n",
        "      g_answer = input(q)\n",
        "      if g_answer == \"s\":\n",
        "        answers.append(1)\n",
        "        break\n",
        "      elif g_answer == \"n\":\n",
        "        answers.append(0)\n",
        "        break\n",
        "      else:\n",
        "        print(\"Reposta inválida, somente s(sim) ou n(não)\") \n",
        "    \n",
        "\n",
        "do_questions(questions)\n",
        "total = sum(answers)\n",
        "\n",
        "if total == 5:\n",
        "  print(\"Assasino\")\n",
        "elif total >= 3:\n",
        "  print(\"Cúmplice\")\n",
        "elif total >= 2:n\n",
        "  print(\"Suspeita\")\n",
        "else:\n",
        "  print(\"Inocente\")"
      ],
      "execution_count": null,
      "outputs": [
        {
          "output_type": "stream",
          "text": [
            "Telefonou para a vítima?n\n",
            "Esteve no local do crime?n\n",
            "Mora perto da vítima?n\n",
            "Devia para a vítima?\n",
            "Reposta inválida, somente s(sim) ou n(não)\n",
            "Devia para a vítima?n\n",
            "Já trabalhou com a vítima?n\n",
            "Inocente\n"
          ],
          "name": "stdout"
        }
      ]
    },
    {
      "cell_type": "markdown",
      "metadata": {
        "id": "FTK9nE4pdB1D"
      },
      "source": [
        "\n",
        "3 - A lista abaixo possui nomes de alunos de uma classe. Crie um loop que imprima '{nome} é aluno da classe'\n"
      ]
    },
    {
      "cell_type": "code",
      "metadata": {
        "id": "nW4SbDxTmx4t"
      },
      "source": [
        "['Maria','João','Marcelo','Jonas','Laura','Luana']"
      ],
      "execution_count": null,
      "outputs": []
    },
    {
      "cell_type": "code",
      "metadata": {
        "id": "0sRr8MXCpbGP",
        "colab": {
          "base_uri": "https://localhost:8080/"
        },
        "outputId": "5babb8f4-5c2b-4762-abfb-ed944b6c7e0e"
      },
      "source": [
        "names = ['Maria','João','Marcelo','Jonas','Laura','Luana']\n",
        "\n",
        "for name in names:\n",
        "    print(name+\" é alino da classe\")"
      ],
      "execution_count": null,
      "outputs": [
        {
          "output_type": "stream",
          "text": [
            "Maria é alino da classe\n",
            "João é alino da classe\n",
            "Marcelo é alino da classe\n",
            "Jonas é alino da classe\n",
            "Laura é alino da classe\n",
            "Luana é alino da classe\n"
          ],
          "name": "stdout"
        }
      ]
    },
    {
      "cell_type": "markdown",
      "metadata": {
        "id": "_HbJNv8MaG4g"
      },
      "source": [
        "4 - Utilizando-se da mesma lista trabalhada acima e a lista dada abaixo, que contem as idades dos alunos, realize um loop que faça a iteração com as duas listas printando \"{nome} tem {idade} anos\".\n",
        "Dica: utilize *zip*()"
      ]
    },
    {
      "cell_type": "code",
      "metadata": {
        "id": "LJDxmAbJeO9V"
      },
      "source": [
        "[23,34,42,54,26,27]"
      ],
      "execution_count": null,
      "outputs": []
    },
    {
      "cell_type": "code",
      "metadata": {
        "id": "Kq1Lc7Ukps-V",
        "colab": {
          "base_uri": "https://localhost:8080/"
        },
        "outputId": "b177678f-b7ac-4df8-d191-aaa18907afd5"
      },
      "source": [
        "names = ['Maria','João','Marcelo','Jonas','Laura','Luana']\n",
        "ages = [23,34,42,54,26,27]\n",
        "\n",
        "students = zip(names,ages)\n",
        "\n",
        "#print utlizando tuple\n",
        "#print(tuple(students))\n",
        "\n",
        "for index,name in enumerate(names):\n",
        "  print(name+\" tem \"+str(ages[index])+\" anos.\")"
      ],
      "execution_count": null,
      "outputs": [
        {
          "output_type": "stream",
          "text": [
            "Maria tem 23 anos.\n",
            "João tem 34 anos.\n",
            "Marcelo tem 42 anos.\n",
            "Jonas tem 54 anos.\n",
            "Laura tem 26 anos.\n",
            "Luana tem 27 anos.\n"
          ],
          "name": "stdout"
        }
      ]
    },
    {
      "cell_type": "markdown",
      "metadata": {
        "id": "0tkhm6EUaG1u"
      },
      "source": [
        "5 - Transforme as duas listas anteriores em um dicionário cuja chave é o nome e o valor é a idade."
      ]
    },
    {
      "cell_type": "code",
      "metadata": {
        "id": "MNINJ32eU45M",
        "colab": {
          "base_uri": "https://localhost:8080/"
        },
        "outputId": "ef1caf6b-1fab-41d1-a3f7-f5ee43b9deaa"
      },
      "source": [
        "names = ['Maria','João','Marcelo','Jonas','Laura','Luana']\n",
        "ages = [23,34,42,54,26,27]\n",
        "students = zip(names,ages)\n",
        "students_dic = {}\n",
        "\n",
        "for index,name in enumerate(names):\n",
        "  students_dic.update({name:ages[index]})\n",
        "\n",
        "print(students_dic)"
      ],
      "execution_count": null,
      "outputs": [
        {
          "output_type": "stream",
          "text": [
            "{'Maria': 23, 'João': 34, 'Marcelo': 42, 'Jonas': 54, 'Laura': 26, 'Luana': 27}\n"
          ],
          "name": "stdout"
        }
      ]
    },
    {
      "cell_type": "markdown",
      "metadata": {
        "id": "Lm1tOKThnU42"
      },
      "source": [
        "Exercícios adaptados de Python Brasil"
      ]
    }
  ]
}